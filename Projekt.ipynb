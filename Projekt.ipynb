{
  "nbformat": 4,
  "nbformat_minor": 0,
  "metadata": {
    "colab": {
      "provenance": [],
      "authorship_tag": "ABX9TyO0wCcdSMzas2DABFzYRD4J",
      "include_colab_link": true
    },
    "kernelspec": {
      "name": "python3",
      "display_name": "Python 3"
    },
    "language_info": {
      "name": "python"
    }
  },
  "cells": [
    {
      "cell_type": "markdown",
      "metadata": {
        "id": "view-in-github",
        "colab_type": "text"
      },
      "source": [
        "<a href=\"https://colab.research.google.com/github/Klaudia2022/Algorytm-eliminacji-Gaussa---Jordana/blob/main/Projekt.ipynb\" target=\"_parent\"><img src=\"https://colab.research.google.com/assets/colab-badge.svg\" alt=\"Open In Colab\"/></a>"
      ]
    },
    {
      "cell_type": "code",
      "source": [
        "import sympy as sp\n",
        "import numpy as np\n",
        "from scipy.linalg import block_diag"
      ],
      "metadata": {
        "id": "GVcGwmUCqula"
      },
      "execution_count": null,
      "outputs": []
    },
    {
      "cell_type": "markdown",
      "source": [
        "#Zadanie 1\n",
        "---\n",
        "\n"
      ],
      "metadata": {
        "id": "4k4McJsWnjpH"
      }
    },
    {
      "cell_type": "code",
      "execution_count": null,
      "metadata": {
        "id": "68FtoFMEni38"
      },
      "outputs": [],
      "source": [
        "def GaussJordan(A,red=True):\n",
        "  A=A.astype(float)               #bez tej linijki liczyło mi całkowitoliczbowo, a nie na liczbach rzeczywistych\n",
        "  m=A.shape[0]\n",
        "  n=A.shape[1]\n",
        "  if red==True:\n",
        "    for i in range(min(m,n)):\n",
        "      y=i\n",
        "      while A[y,i]==0 and y<m-1:\n",
        "        y+=1\n",
        "      if y==m-1 and A[y,i]==0:\n",
        "        continue\n",
        "      else:\n",
        "        A[y,:]=A[y,:]/A[y,i]\n",
        "        pom=A[i,:].copy()               #zamieniam wiersze miejscami, nie zmienia to niczego do sprawdzania czy macierz jest osobliwa, ponieważ zamiana wierszy miejscami zmienia tylko znak wyznacznika\n",
        "        A[i,:]=A[y,:].copy()\n",
        "        A[y,:]=pom.copy()\n",
        "        for j in range(m):\n",
        "          if j==i:\n",
        "            continue\n",
        "          else:\n",
        "            A[j,:]=A[j,:]-A[i,:]*A[j,i]\n",
        "  else:\n",
        "    for i in range(min(m,n)):\n",
        "      y=i\n",
        "      while A[y,i]==0 and y<m-1:\n",
        "        y+=1\n",
        "      if y==m-1 and A[y,i]==0:\n",
        "        continue\n",
        "      else:\n",
        "        x=A[y,:]/A[y,i]\n",
        "        pom=A[i,:].copy()\n",
        "        A[i,:]=A[y,:].copy()\n",
        "        A[y,:]=pom.copy()\n",
        "      for j in range(i+1, m):\n",
        "        A[j,:]=A[j,:]-x*A[j,i]\n",
        "  return A"
      ]
    },
    {
      "cell_type": "markdown",
      "source": [
        "#Zadanie 2\n",
        "---"
      ],
      "metadata": {
        "id": "n1Iy6OxUV628"
      }
    },
    {
      "cell_type": "code",
      "source": [
        "def rozwiazuklad(A,b, niewiadome=[]):                        #użytkownik może wprowadzić zmienne (symbole)\n",
        "  m=A.shape[0]\n",
        "  n=A.shape[1]\n",
        "  B=np.hstack((A,b))\n",
        "  B=GaussJordan(B, True)\n",
        "  r=np.linalg.matrix_rank(B)\n",
        "  if r==n+1:\n",
        "    print(\"Brak rozwiązań\")\n",
        "    return None\n",
        "  else:\n",
        "    if niewiadome==[]:\n",
        "      niewiadome=sp.symbols(['x'+str(i+1) for i in range(n)])\n",
        "    rozwiazanie={}\n",
        "    for i in range(r):\n",
        "      rozwiazanie[niewiadome[i]]=B[i,n]\n",
        "      for j in range(r+1,n+1):\n",
        "        rozwiazanie[niewiadome[i]]-=niewiadome[j-1]*B[i,j-1]\n",
        "    return rozwiazanie"
      ],
      "metadata": {
        "id": "CbHkM5rMHfm3"
      },
      "execution_count": null,
      "outputs": []
    },
    {
      "cell_type": "markdown",
      "source": [
        "#Zadanie 3\n",
        "---"
      ],
      "metadata": {
        "id": "8cBSmrOraMRZ"
      }
    },
    {
      "cell_type": "code",
      "source": [
        "def osobliwa(A):\n",
        "  if A.shape[0]!=A.shape[1]:\n",
        "    return None\n",
        "  A=GaussJordan(A)\n",
        "  det=1\n",
        "  for i in range(A.shape[0]):\n",
        "    det*=A[i,i]\n",
        "  if det==0:\n",
        "    return True\n",
        "  else:\n",
        "    return False"
      ],
      "metadata": {
        "id": "y1RHnD6zaVDl"
      },
      "execution_count": null,
      "outputs": []
    },
    {
      "cell_type": "markdown",
      "source": [
        "#Zadanie 4\n",
        "---"
      ],
      "metadata": {
        "id": "QA5SZywuaPGH"
      }
    },
    {
      "cell_type": "code",
      "source": [
        "def odwrotna(A):\n",
        "  if A.shape[0]!=A.shape[1]:\n",
        "    return None\n",
        "  n=A.shape[0]\n",
        "  if osobliwa(A):\n",
        "    return None\n",
        "  else:\n",
        "    B=np.hstack((A,np.eye(n)))\n",
        "    B=GaussJordan(B)\n",
        "    return B[0:n,n:2*n]"
      ],
      "metadata": {
        "id": "XdMvb6II9g9A"
      },
      "execution_count": null,
      "outputs": []
    },
    {
      "cell_type": "markdown",
      "source": [
        "#Zadanie 5\n",
        "---"
      ],
      "metadata": {
        "id": "Dyx1IZznaWNB"
      }
    },
    {
      "cell_type": "markdown",
      "source": [
        "##a)"
      ],
      "metadata": {
        "id": "ElzJtR6l-xd4"
      }
    },
    {
      "cell_type": "code",
      "source": [
        "A=np.array([[1,2],[2,-1]])"
      ],
      "metadata": {
        "id": "8H6wRCX5aYjC"
      },
      "execution_count": null,
      "outputs": []
    },
    {
      "cell_type": "code",
      "source": [
        "b=np.array([[8],[1]])"
      ],
      "metadata": {
        "id": "HOi1_aG2-_tt"
      },
      "execution_count": null,
      "outputs": []
    },
    {
      "cell_type": "code",
      "source": [
        "rozwiazuklad(A,b)"
      ],
      "metadata": {
        "colab": {
          "base_uri": "https://localhost:8080/"
        },
        "id": "Dx5LIxT9_DoO",
        "outputId": "ea46f547-4c3b-4a5e-fa02-90a8621b6afe"
      },
      "execution_count": null,
      "outputs": [
        {
          "output_type": "execute_result",
          "data": {
            "text/plain": [
              "{x1: 2.0, x2: 3.0}"
            ]
          },
          "metadata": {},
          "execution_count": 73
        }
      ]
    },
    {
      "cell_type": "code",
      "source": [
        "zmienne=sp.symbols(['x','y'])"
      ],
      "metadata": {
        "id": "utXOwH4tu7e2"
      },
      "execution_count": null,
      "outputs": []
    },
    {
      "cell_type": "code",
      "source": [
        "rozwiazuklad(A,b,zmienne)"
      ],
      "metadata": {
        "colab": {
          "base_uri": "https://localhost:8080/"
        },
        "id": "iSlyeAirvLsF",
        "outputId": "8036b387-af16-4361-af63-ecce3dc0a77c"
      },
      "execution_count": null,
      "outputs": [
        {
          "output_type": "execute_result",
          "data": {
            "text/plain": [
              "{x: 2.0, y: 3.0}"
            ]
          },
          "metadata": {},
          "execution_count": 75
        }
      ]
    },
    {
      "cell_type": "markdown",
      "source": [
        "##b)"
      ],
      "metadata": {
        "id": "_dfALaoH_slx"
      }
    },
    {
      "cell_type": "code",
      "source": [
        "A=np.array([[-1,2,1],[1,-3,-2],[3,-1,-1]])"
      ],
      "metadata": {
        "id": "ALGmoWEU_St7"
      },
      "execution_count": null,
      "outputs": []
    },
    {
      "cell_type": "code",
      "source": [
        "b=np.array([[-1],[-1],[4]])"
      ],
      "metadata": {
        "id": "7yJ2GvVvABS_"
      },
      "execution_count": null,
      "outputs": []
    },
    {
      "cell_type": "code",
      "source": [
        "rozwiazuklad(A,b)"
      ],
      "metadata": {
        "colab": {
          "base_uri": "https://localhost:8080/"
        },
        "id": "djXtoKuWAG51",
        "outputId": "f1f7aecd-f389-4293-cc35-210090ef6365"
      },
      "execution_count": null,
      "outputs": [
        {
          "output_type": "execute_result",
          "data": {
            "text/plain": [
              "{x1: 2.0, x2: -1.0, x3: 3.0}"
            ]
          },
          "metadata": {},
          "execution_count": 78
        }
      ]
    },
    {
      "cell_type": "markdown",
      "source": [
        "##c)"
      ],
      "metadata": {
        "id": "F-3ik-SsALJx"
      }
    },
    {
      "cell_type": "code",
      "source": [
        "A=np.array([[2,5,7],[6,3,4],[5,-2,-3]])"
      ],
      "metadata": {
        "id": "r5MpkQXpAI67"
      },
      "execution_count": null,
      "outputs": []
    },
    {
      "cell_type": "code",
      "source": [
        "C=odwrotna(A)"
      ],
      "metadata": {
        "id": "MJiLQzQIAXte"
      },
      "execution_count": null,
      "outputs": []
    },
    {
      "cell_type": "code",
      "source": [
        "C"
      ],
      "metadata": {
        "colab": {
          "base_uri": "https://localhost:8080/"
        },
        "id": "bFBzt6MxAa1v",
        "outputId": "08a29b70-0adb-408d-97ab-db422b168d6c"
      },
      "execution_count": null,
      "outputs": [
        {
          "output_type": "execute_result",
          "data": {
            "text/plain": [
              "array([[  1.,  -1.,   1.],\n",
              "       [-38.,  41., -34.],\n",
              "       [ 27., -29.,  24.]])"
            ]
          },
          "metadata": {},
          "execution_count": 81
        }
      ]
    },
    {
      "cell_type": "markdown",
      "source": [
        "#Porównanie czasu\n",
        "---"
      ],
      "metadata": {
        "id": "epPPSUrM5O8m"
      }
    },
    {
      "cell_type": "code",
      "source": [
        "from timeit import default_timer as timer"
      ],
      "metadata": {
        "id": "_UVzycihgqOI"
      },
      "execution_count": null,
      "outputs": []
    },
    {
      "cell_type": "code",
      "source": [
        "timeMy=0.0\n",
        "timeBuilt=0.0\n",
        "size1=25\n",
        "size2=25\n",
        "rep=1000\n",
        "\n",
        "for i in range(rep):\n",
        "  A=np.random.random((size1,size2))\n",
        "  b=np.random.random((size1,1))\n",
        "  start=timer()\n",
        "  rozwiazuklad(A,b)\n",
        "  end=timer()\n",
        "  timeMy+=end-start\n",
        "\n",
        "  start=timer()\n",
        "  np.linalg.solve(A,b)\n",
        "  end=timer()\n",
        "  timeBuilt+=end-start\n",
        "\n",
        "print(\"Funkcja rozwiazuklad: \", (timeMy/rep)*1000, \"ms\")\n",
        "print(\"Funkcja wbudowana: \", (timeBuilt/rep)*1000, \"ms\")"
      ],
      "metadata": {
        "colab": {
          "base_uri": "https://localhost:8080/"
        },
        "id": "ZADMSXp7pRHx",
        "outputId": "64872cdb-a904-461f-9421-34549c9f29ea"
      },
      "execution_count": null,
      "outputs": [
        {
          "output_type": "stream",
          "name": "stdout",
          "text": [
            "Funkcja rozwiazuklad:  5.058541706991491 ms\n",
            "Funkcja wbudowana:  0.15427351999005623 ms\n"
          ]
        }
      ]
    },
    {
      "cell_type": "markdown",
      "source": [
        "Funkcja osobliwa to nie jest dokładnie to samo co wyznacznik, ale nie znalazłam lepszego odpowiednika"
      ],
      "metadata": {
        "id": "aNGl7HmF8v83"
      }
    },
    {
      "cell_type": "code",
      "source": [
        "timeMy=0.0\n",
        "timeBuilt=0.0\n",
        "size=100\n",
        "rep=1000\n",
        "\n",
        "for i in range(rep):\n",
        "  A=np.random.random((size,size))\n",
        "  start=timer()\n",
        "  osobliwa(A)\n",
        "  end=timer()\n",
        "  timeMy+=end-start\n",
        "\n",
        "  start=timer()\n",
        "  np.linalg.det(A)\n",
        "  end=timer()\n",
        "  timeBuilt+=end-start\n",
        "\n",
        "print(\"Funkcja osobliwa: \", (timeMy/rep)*1000, \"ms\")\n",
        "print(\"Funkcja wbudowana: \", (timeBuilt/rep)*1000, \"ms\")"
      ],
      "metadata": {
        "colab": {
          "base_uri": "https://localhost:8080/"
        },
        "id": "pWR1n7uT9MJO",
        "outputId": "4fc476dd-fcc2-44e4-b726-679d44507b0e"
      },
      "execution_count": null,
      "outputs": [
        {
          "output_type": "stream",
          "name": "stdout",
          "text": [
            "Funkcja osobliwa:  65.83809302400641 ms\n",
            "Funkcja wbudowana:  0.4917819850015804 ms\n"
          ]
        }
      ]
    },
    {
      "cell_type": "code",
      "source": [
        "timeMy=0.0\n",
        "timeBuilt=0.0\n",
        "size=100\n",
        "rep=1000\n",
        "\n",
        "for i in range(rep):\n",
        "  A=np.random.random((size,size))\n",
        "  while np.linalg.det(A)==0:\n",
        "    A=np.random.random((size, size))\n",
        "  start=timer()\n",
        "  odwrotna(A)\n",
        "  end=timer()\n",
        "  timeMy+=end-start\n",
        "\n",
        "  start=timer()\n",
        "  np.linalg.inv(A)\n",
        "  end=timer()\n",
        "  timeBuilt+=end-start\n",
        "\n",
        "print(\"Funkcja odwrotna: \", (timeMy/rep)*1000, \"ms\")\n",
        "print(\"Funkcja wbudowana: \", (timeBuilt/rep)*1000, \"ms\")"
      ],
      "metadata": {
        "colab": {
          "base_uri": "https://localhost:8080/"
        },
        "id": "PaFflrc85ip2",
        "outputId": "7c1d4535-0a5d-4816-82a4-e8522017b62a"
      },
      "execution_count": null,
      "outputs": [
        {
          "output_type": "stream",
          "name": "stdout",
          "text": [
            "Funkcja odwrotna:  69.84931803000063 ms\n",
            "Funkcja wbudowana:  0.7681545779946646 ms\n"
          ]
        }
      ]
    },
    {
      "cell_type": "code",
      "source": [],
      "metadata": {
        "id": "h8Q8AVPY8SWG"
      },
      "execution_count": null,
      "outputs": []
    }
  ]
}